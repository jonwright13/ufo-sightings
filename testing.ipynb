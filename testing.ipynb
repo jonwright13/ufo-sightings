{
 "cells": [
  {
   "cell_type": "code",
   "execution_count": 2,
   "metadata": {},
   "outputs": [],
   "source": [
    "import pandas as pd"
   ]
  },
  {
   "cell_type": "code",
   "execution_count": 3,
   "metadata": {},
   "outputs": [
    {
     "name": "stderr",
     "output_type": "stream",
     "text": [
      "C:\\Users\\jonmw\\AppData\\Local\\Temp\\ipykernel_15712\\2855359057.py:2: DtypeWarning: Columns (5,9) have mixed types. Specify dtype option on import or set low_memory=False.\n",
      "  df = pd.read_csv(\"data/ufo_sighting_data.csv\")\n"
     ]
    },
    {
     "data": {
      "text/plain": [
       "(80332, 11)"
      ]
     },
     "execution_count": 3,
     "metadata": {},
     "output_type": "execute_result"
    }
   ],
   "source": [
    "# Load data\n",
    "df = pd.read_csv(\"data/ufo_sighting_data.csv\")\n",
    "df.shape"
   ]
  },
  {
   "cell_type": "code",
   "execution_count": 33,
   "metadata": {},
   "outputs": [
    {
     "name": "stdout",
     "output_type": "stream",
     "text": [
      "+---------------------------------+-----------+----------------+---------------+--------+------------------+\n",
      "|           Column Name           | Data Type | Non-Null Count | Missing Count | Unique | High Cardinality |\n",
      "+---------------------------------+-----------+----------------+---------------+--------+------------------+\n",
      "|            Date_time            |   object  |     80328      |       0       | 69582  |       True       |\n",
      "|               city              |   object  |     80328      |       0       | 19898  |       True       |\n",
      "|          state/province         |   object  |     74532      |      5796     |   67   |       True       |\n",
      "|             country             |   object  |     70660      |      9668     |   5    |      False       |\n",
      "|            UFO_shape            |   object  |     78398      |      1930     |   29   |       True       |\n",
      "|   length_of_encounter_seconds   |  float64  |     80328      |       0       |  533   |       True       |\n",
      "| described_duration_of_encounter |   object  |     80328      |       0       |  8301  |       True       |\n",
      "|           description           |   object  |     80313      |       15      | 79993  |       True       |\n",
      "|         date_documented         |   object  |     80328      |       0       |  317   |       True       |\n",
      "|             latitude            |  float64  |     80328      |       0       | 18419  |       True       |\n",
      "|            longitude            |  float64  |     80328      |       0       | 19453  |       True       |\n",
      "+---------------------------------+-----------+----------------+---------------+--------+------------------+\n"
     ]
    }
   ],
   "source": [
    "from prettytable import PrettyTable\n",
    "\n",
    "def pretty_table_missing_counts(df, cardinality_limit=10, display=True):\n",
    "  '''\n",
    "  Method takes 3 parameters (1 required and 2 optional) and creates a visually pleasing table using the PrettyTable package\n",
    "  that displays all columns, datatypes, non-null/null counts, and whether cardinality is high\n",
    "  Params:\n",
    "    ► df (DataFrame) | Pandas DataFrame\n",
    "    ► cardinality_limit (int) | Integer representing the limit for considering a column to have high cardinality. Default = 10 items\n",
    "    ► display (bool) | True/False whether to print the table before returning. Default = True\n",
    "  Return:\n",
    "    ► PrettyTable table\n",
    "  '''\n",
    "\n",
    "  table = PrettyTable()\n",
    "\n",
    "  table.field_names = [\n",
    "      'Column Name', 'Data Type', 'Non-Null Count', 'Missing Count', 'Unique', \n",
    "      'High Cardinality'\n",
    "  ]\n",
    "\n",
    "  for column in df.columns:\n",
    "      data_type = str(df[column].dtype)\n",
    "      non_null_count = df[column].count()\n",
    "      missing_count = df.shape[0] - non_null_count\n",
    "      uniques = df[column].nunique()\n",
    "      cardinality = uniques > cardinality_limit\n",
    "      table.add_row([column, data_type, non_null_count, missing_count, uniques, cardinality])\n",
    "  \n",
    "  if display:\n",
    "    print(table)\n",
    "    \n",
    "  return table\n",
    "\n",
    "a = pretty_table_missing_counts(df, display=True)"
   ]
  },
  {
   "cell_type": "code",
   "execution_count": 26,
   "metadata": {},
   "outputs": [],
   "source": [
    "df = df.drop(df[pd.to_numeric(df['latitude'], errors='coerce').isna()].index).reset_index(drop=True)\n",
    "df = df.drop(df[pd.to_numeric(df['longitude'], errors='coerce').isna()].index).reset_index(drop=True)"
   ]
  },
  {
   "cell_type": "code",
   "execution_count": 23,
   "metadata": {},
   "outputs": [],
   "source": [
    "df['latitude'] = df['latitude'].astype(float)\n",
    "df['longitude'] = df['longitude'].astype(float)"
   ]
  },
  {
   "cell_type": "code",
   "execution_count": 32,
   "metadata": {},
   "outputs": [],
   "source": [
    "df = df.drop(df[pd.to_numeric(df['length_of_encounter_seconds'], errors='coerce').isna()].index).reset_index(drop=True)\n",
    "df['length_of_encounter_seconds'] = df['length_of_encounter_seconds'].astype(float)"
   ]
  },
  {
   "cell_type": "code",
   "execution_count": 48,
   "metadata": {},
   "outputs": [
    {
     "data": {
      "text/html": [
       "<div>\n",
       "<style scoped>\n",
       "    .dataframe tbody tr th:only-of-type {\n",
       "        vertical-align: middle;\n",
       "    }\n",
       "\n",
       "    .dataframe tbody tr th {\n",
       "        vertical-align: top;\n",
       "    }\n",
       "\n",
       "    .dataframe thead th {\n",
       "        text-align: right;\n",
       "    }\n",
       "</style>\n",
       "<table border=\"1\" class=\"dataframe\">\n",
       "  <thead>\n",
       "    <tr style=\"text-align: right;\">\n",
       "      <th></th>\n",
       "      <th>Date_time</th>\n",
       "      <th>city</th>\n",
       "      <th>state/province</th>\n",
       "      <th>country</th>\n",
       "      <th>UFO_shape</th>\n",
       "      <th>length_of_encounter_seconds</th>\n",
       "      <th>described_duration_of_encounter</th>\n",
       "      <th>description</th>\n",
       "      <th>date_documented</th>\n",
       "      <th>latitude</th>\n",
       "      <th>longitude</th>\n",
       "    </tr>\n",
       "  </thead>\n",
       "  <tbody>\n",
       "    <tr>\n",
       "      <th>387</th>\n",
       "      <td>10/11/2006 23:00</td>\n",
       "      <td>pampa</td>\n",
       "      <td>tx</td>\n",
       "      <td>us</td>\n",
       "      <td>triangle</td>\n",
       "      <td>60.0</td>\n",
       "      <td>1 minute</td>\n",
       "      <td>Two triangular objects&amp;#44 lit up by three mai...</td>\n",
       "      <td>10/30/2006</td>\n",
       "      <td>35.536111</td>\n",
       "      <td>-100.959444</td>\n",
       "    </tr>\n",
       "    <tr>\n",
       "      <th>388</th>\n",
       "      <td>10/11/2006 24:00</td>\n",
       "      <td>rome</td>\n",
       "      <td>ny</td>\n",
       "      <td>us</td>\n",
       "      <td>oval</td>\n",
       "      <td>120.0</td>\n",
       "      <td>a min or two</td>\n",
       "      <td>I was walking from the garage to the house&amp;#44...</td>\n",
       "      <td>2/1/2007</td>\n",
       "      <td>43.212778</td>\n",
       "      <td>-75.456111</td>\n",
       "    </tr>\n",
       "  </tbody>\n",
       "</table>\n",
       "</div>"
      ],
      "text/plain": [
       "            Date_time   city state/province country UFO_shape  \\\n",
       "387  10/11/2006 23:00  pampa             tx      us  triangle   \n",
       "388  10/11/2006 24:00   rome             ny      us      oval   \n",
       "\n",
       "     length_of_encounter_seconds described_duration_of_encounter  \\\n",
       "387                         60.0                        1 minute   \n",
       "388                        120.0                    a min or two   \n",
       "\n",
       "                                           description date_documented  \\\n",
       "387  Two triangular objects&#44 lit up by three mai...      10/30/2006   \n",
       "388  I was walking from the garage to the house&#44...        2/1/2007   \n",
       "\n",
       "      latitude   longitude  \n",
       "387  35.536111 -100.959444  \n",
       "388  43.212778  -75.456111  "
      ]
     },
     "execution_count": 48,
     "metadata": {},
     "output_type": "execute_result"
    }
   ],
   "source": [
    "df.iloc[387:389]"
   ]
  },
  {
   "cell_type": "code",
   "execution_count": 49,
   "metadata": {},
   "outputs": [],
   "source": [
    "# Replace \"24:00\" with \"00:00\"\n",
    "df['Date_time'] = df['Date_time'].str.replace('24:00', '00:00')\n",
    "df['Date_time'] = pd.to_datetime(df['Date_time'], format='%m/%d/%Y %H:%M')"
   ]
  },
  {
   "cell_type": "code",
   "execution_count": 51,
   "metadata": {},
   "outputs": [],
   "source": [
    "df['Years'] = df['Date_time'].dt.year"
   ]
  },
  {
   "cell_type": "code",
   "execution_count": 54,
   "metadata": {},
   "outputs": [
    {
     "data": {
      "text/plain": [
       "2014"
      ]
     },
     "execution_count": 54,
     "metadata": {},
     "output_type": "execute_result"
    }
   ],
   "source": [
    "df['Years'].max()"
   ]
  },
  {
   "cell_type": "code",
   "execution_count": null,
   "metadata": {},
   "outputs": [],
   "source": []
  }
 ],
 "metadata": {
  "kernelspec": {
   "display_name": ".venv",
   "language": "python",
   "name": "python3"
  },
  "language_info": {
   "codemirror_mode": {
    "name": "ipython",
    "version": 3
   },
   "file_extension": ".py",
   "mimetype": "text/x-python",
   "name": "python",
   "nbconvert_exporter": "python",
   "pygments_lexer": "ipython3",
   "version": "3.11.0"
  }
 },
 "nbformat": 4,
 "nbformat_minor": 2
}
